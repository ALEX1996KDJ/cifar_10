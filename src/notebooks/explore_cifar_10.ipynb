{
 "cells": [
  {
   "cell_type": "code",
   "execution_count": null,
   "id": "737e81c7",
   "metadata": {},
   "outputs": [],
   "source": [
    "{\n",
    " \"cells\": [\n",
    "  {\n",
    "   \"cell_type\": \"markdown\",\n",
    "   \"metadata\": {},\n",
    "   \"source\": [\n",
    "    \"# Exploración de CIFAR-10\\n\",\n",
    "    \"Notebook para explorar el dataset CIFAR-10 y entrenar el modelo CNN\"\n",
    "   ]\n",
    "  },\n",
    "  {\n",
    "   \"cell_type\": \"code\",\n",
    "   \"execution_count\": null,\n",
    "   \"metadata\": {},\n",
    "   \"outputs\": [],\n",
    "   \"source\": [\n",
    "    \"import sys\\n\",\n",
    "    \"sys.path.append('../src')\\n\",\n",
    "    \"\\n\",\n",
    "    \"from models.cifar10_cnn import CIFAR10CNN\\n\",\n",
    "    \"from utils.data_utils import get_class_names\\n\",\n",
    "    \"\\n\",\n",
    "    \"# Cargar datos\\n\",\n",
    "    \"cnn = CIFAR10CNN()\\n\",\n",
    "    \"(x_train, y_train), (x_test, y_test) = cnn.load_data()\\n\",\n",
    "    \"\\n\",\n",
    "    \"print(\\\"Forma de x_train:\\\", x_train.shape)\\n\",\n",
    "    \"print(\\\"Forma de y_train:\\\", y_train.shape)\\n\",\n",
    "    \"print(\\\"Clases:\\\", get_class_names())\"\n",
    "   ]\n",
    "  }\n",
    " ],\n",
    " \"metadata\": {\n",
    "  \"kernelspec\": {\n",
    "   \"display_name\": \"Python 3\",\n",
    "   \"language\": \"python\",\n",
    "   \"name\": \"python3\"\n",
    "  }\n",
    " },\n",
    " \"nbformat\": 4,\n",
    " \"nbformat_minor\": 4\n",
    "}"
   ]
  }
 ],
 "metadata": {
  "language_info": {
   "name": "python"
  }
 },
 "nbformat": 4,
 "nbformat_minor": 5
}
